{
  "nbformat": 4,
  "nbformat_minor": 0,
  "metadata": {
    "colab": {
      "name": "рабоч2.ipynb",
      "provenance": [],
      "collapsed_sections": [],
      "authorship_tag": "ABX9TyP/WzwFH9RhI0zfGcbJa/Vi",
      "include_colab_link": true
    },
    "kernelspec": {
      "name": "python3",
      "display_name": "Python 3"
    }
  },
  "cells": [
    {
      "cell_type": "markdown",
      "metadata": {
        "id": "view-in-github",
        "colab_type": "text"
      },
      "source": [
        "<a href=\"https://colab.research.google.com/github/Shtrohaim/WorkPIS_2/blob/main/%D1%80%D0%B0%D0%B1%D0%BE%D1%872.ipynb\" target=\"_parent\"><img src=\"https://colab.research.google.com/assets/colab-badge.svg\" alt=\"Open In Colab\"/></a>"
      ]
    },
    {
      "cell_type": "markdown",
      "metadata": {
        "id": "-53BlLHSRiYx"
      },
      "source": [
        "# import package \r\n",
        "\r\n"
      ]
    },
    {
      "cell_type": "code",
      "metadata": {
        "id": "vML2ROB0RGYL"
      },
      "source": [
        "import pandas as pd\r\n",
        "import numpy as np\r\n",
        "from IPython.display import display"
      ],
      "execution_count": 21,
      "outputs": []
    },
    {
      "cell_type": "markdown",
      "metadata": {
        "id": "ir9nG6CeR4bR"
      },
      "source": [
        "# import data"
      ]
    },
    {
      "cell_type": "code",
      "metadata": {
        "colab": {
          "base_uri": "https://localhost:8080/",
          "height": 142
        },
        "id": "WHK1jK-LR9G8",
        "outputId": "c64524f5-680a-4398-e28b-c69da4c11016"
      },
      "source": [
        "data = pd.read_csv(\"https://archive.ics.uci.edu/ml/machine-learning-databases/glass/glass.data\",header=None)\r\n",
        "data.head(3)"
      ],
      "execution_count": 22,
      "outputs": [
        {
          "output_type": "execute_result",
          "data": {
            "text/html": [
              "<div>\n",
              "<style scoped>\n",
              "    .dataframe tbody tr th:only-of-type {\n",
              "        vertical-align: middle;\n",
              "    }\n",
              "\n",
              "    .dataframe tbody tr th {\n",
              "        vertical-align: top;\n",
              "    }\n",
              "\n",
              "    .dataframe thead th {\n",
              "        text-align: right;\n",
              "    }\n",
              "</style>\n",
              "<table border=\"1\" class=\"dataframe\">\n",
              "  <thead>\n",
              "    <tr style=\"text-align: right;\">\n",
              "      <th></th>\n",
              "      <th>0</th>\n",
              "      <th>1</th>\n",
              "      <th>2</th>\n",
              "      <th>3</th>\n",
              "      <th>4</th>\n",
              "      <th>5</th>\n",
              "      <th>6</th>\n",
              "      <th>7</th>\n",
              "      <th>8</th>\n",
              "      <th>9</th>\n",
              "      <th>10</th>\n",
              "    </tr>\n",
              "  </thead>\n",
              "  <tbody>\n",
              "    <tr>\n",
              "      <th>0</th>\n",
              "      <td>1</td>\n",
              "      <td>1.52101</td>\n",
              "      <td>13.64</td>\n",
              "      <td>4.49</td>\n",
              "      <td>1.10</td>\n",
              "      <td>71.78</td>\n",
              "      <td>0.06</td>\n",
              "      <td>8.75</td>\n",
              "      <td>0.0</td>\n",
              "      <td>0.0</td>\n",
              "      <td>1</td>\n",
              "    </tr>\n",
              "    <tr>\n",
              "      <th>1</th>\n",
              "      <td>2</td>\n",
              "      <td>1.51761</td>\n",
              "      <td>13.89</td>\n",
              "      <td>3.60</td>\n",
              "      <td>1.36</td>\n",
              "      <td>72.73</td>\n",
              "      <td>0.48</td>\n",
              "      <td>7.83</td>\n",
              "      <td>0.0</td>\n",
              "      <td>0.0</td>\n",
              "      <td>1</td>\n",
              "    </tr>\n",
              "    <tr>\n",
              "      <th>2</th>\n",
              "      <td>3</td>\n",
              "      <td>1.51618</td>\n",
              "      <td>13.53</td>\n",
              "      <td>3.55</td>\n",
              "      <td>1.54</td>\n",
              "      <td>72.99</td>\n",
              "      <td>0.39</td>\n",
              "      <td>7.78</td>\n",
              "      <td>0.0</td>\n",
              "      <td>0.0</td>\n",
              "      <td>1</td>\n",
              "    </tr>\n",
              "  </tbody>\n",
              "</table>\n",
              "</div>"
            ],
            "text/plain": [
              "   0        1      2     3     4      5     6     7    8    9   10\n",
              "0   1  1.52101  13.64  4.49  1.10  71.78  0.06  8.75  0.0  0.0   1\n",
              "1   2  1.51761  13.89  3.60  1.36  72.73  0.48  7.83  0.0  0.0   1\n",
              "2   3  1.51618  13.53  3.55  1.54  72.99  0.39  7.78  0.0  0.0   1"
            ]
          },
          "metadata": {
            "tags": []
          },
          "execution_count": 22
        }
      ]
    },
    {
      "cell_type": "code",
      "metadata": {
        "colab": {
          "base_uri": "https://localhost:8080/",
          "height": 142
        },
        "id": "9oCa4tPvVJjt",
        "outputId": "aa66c370-56b9-41f4-e294-26cad66990b9"
      },
      "source": [
        "names = (\"Id\",\"RI\",\"Na\",\"Mg\",\"Al\",\"Si\",\"K\",\"Ca\",\"Ba\",\"Fe\",\"Class\")\r\n",
        "data.columns = names\r\n",
        "data = data.drop(columns=[\"Id\"])\r\n",
        "data.head(3)"
      ],
      "execution_count": 23,
      "outputs": [
        {
          "output_type": "execute_result",
          "data": {
            "text/html": [
              "<div>\n",
              "<style scoped>\n",
              "    .dataframe tbody tr th:only-of-type {\n",
              "        vertical-align: middle;\n",
              "    }\n",
              "\n",
              "    .dataframe tbody tr th {\n",
              "        vertical-align: top;\n",
              "    }\n",
              "\n",
              "    .dataframe thead th {\n",
              "        text-align: right;\n",
              "    }\n",
              "</style>\n",
              "<table border=\"1\" class=\"dataframe\">\n",
              "  <thead>\n",
              "    <tr style=\"text-align: right;\">\n",
              "      <th></th>\n",
              "      <th>RI</th>\n",
              "      <th>Na</th>\n",
              "      <th>Mg</th>\n",
              "      <th>Al</th>\n",
              "      <th>Si</th>\n",
              "      <th>K</th>\n",
              "      <th>Ca</th>\n",
              "      <th>Ba</th>\n",
              "      <th>Fe</th>\n",
              "      <th>Class</th>\n",
              "    </tr>\n",
              "  </thead>\n",
              "  <tbody>\n",
              "    <tr>\n",
              "      <th>0</th>\n",
              "      <td>1.52101</td>\n",
              "      <td>13.64</td>\n",
              "      <td>4.49</td>\n",
              "      <td>1.10</td>\n",
              "      <td>71.78</td>\n",
              "      <td>0.06</td>\n",
              "      <td>8.75</td>\n",
              "      <td>0.0</td>\n",
              "      <td>0.0</td>\n",
              "      <td>1</td>\n",
              "    </tr>\n",
              "    <tr>\n",
              "      <th>1</th>\n",
              "      <td>1.51761</td>\n",
              "      <td>13.89</td>\n",
              "      <td>3.60</td>\n",
              "      <td>1.36</td>\n",
              "      <td>72.73</td>\n",
              "      <td>0.48</td>\n",
              "      <td>7.83</td>\n",
              "      <td>0.0</td>\n",
              "      <td>0.0</td>\n",
              "      <td>1</td>\n",
              "    </tr>\n",
              "    <tr>\n",
              "      <th>2</th>\n",
              "      <td>1.51618</td>\n",
              "      <td>13.53</td>\n",
              "      <td>3.55</td>\n",
              "      <td>1.54</td>\n",
              "      <td>72.99</td>\n",
              "      <td>0.39</td>\n",
              "      <td>7.78</td>\n",
              "      <td>0.0</td>\n",
              "      <td>0.0</td>\n",
              "      <td>1</td>\n",
              "    </tr>\n",
              "  </tbody>\n",
              "</table>\n",
              "</div>"
            ],
            "text/plain": [
              "        RI     Na    Mg    Al     Si     K    Ca   Ba   Fe  Class\n",
              "0  1.52101  13.64  4.49  1.10  71.78  0.06  8.75  0.0  0.0      1\n",
              "1  1.51761  13.89  3.60  1.36  72.73  0.48  7.83  0.0  0.0      1\n",
              "2  1.51618  13.53  3.55  1.54  72.99  0.39  7.78  0.0  0.0      1"
            ]
          },
          "metadata": {
            "tags": []
          },
          "execution_count": 23
        }
      ]
    },
    {
      "cell_type": "code",
      "metadata": {
        "colab": {
          "base_uri": "https://localhost:8080/",
          "height": 266
        },
        "id": "-5zDcSmgYiH1",
        "outputId": "e308b37f-fe12-4282-beec-0c5d639da073"
      },
      "source": [
        "data['Class'].replace(\r\n",
        "    {\r\n",
        "       1:\"building_float_processed\",\r\n",
        "       2:\"building_non_float_processed\",\r\n",
        "       3:\"vehicle_float_processed\",\r\n",
        "       4:\"vehicle_non_float_processed\",\r\n",
        "       5:\"containers\",\r\n",
        "       6:\"tableware\",\r\n",
        "       7:\"headlamps\" \r\n",
        "    }, inplace=True)\r\n",
        "data.head(7)"
      ],
      "execution_count": 24,
      "outputs": [
        {
          "output_type": "execute_result",
          "data": {
            "text/html": [
              "<div>\n",
              "<style scoped>\n",
              "    .dataframe tbody tr th:only-of-type {\n",
              "        vertical-align: middle;\n",
              "    }\n",
              "\n",
              "    .dataframe tbody tr th {\n",
              "        vertical-align: top;\n",
              "    }\n",
              "\n",
              "    .dataframe thead th {\n",
              "        text-align: right;\n",
              "    }\n",
              "</style>\n",
              "<table border=\"1\" class=\"dataframe\">\n",
              "  <thead>\n",
              "    <tr style=\"text-align: right;\">\n",
              "      <th></th>\n",
              "      <th>RI</th>\n",
              "      <th>Na</th>\n",
              "      <th>Mg</th>\n",
              "      <th>Al</th>\n",
              "      <th>Si</th>\n",
              "      <th>K</th>\n",
              "      <th>Ca</th>\n",
              "      <th>Ba</th>\n",
              "      <th>Fe</th>\n",
              "      <th>Class</th>\n",
              "    </tr>\n",
              "  </thead>\n",
              "  <tbody>\n",
              "    <tr>\n",
              "      <th>0</th>\n",
              "      <td>1.52101</td>\n",
              "      <td>13.64</td>\n",
              "      <td>4.49</td>\n",
              "      <td>1.10</td>\n",
              "      <td>71.78</td>\n",
              "      <td>0.06</td>\n",
              "      <td>8.75</td>\n",
              "      <td>0.0</td>\n",
              "      <td>0.00</td>\n",
              "      <td>building_float_processed</td>\n",
              "    </tr>\n",
              "    <tr>\n",
              "      <th>1</th>\n",
              "      <td>1.51761</td>\n",
              "      <td>13.89</td>\n",
              "      <td>3.60</td>\n",
              "      <td>1.36</td>\n",
              "      <td>72.73</td>\n",
              "      <td>0.48</td>\n",
              "      <td>7.83</td>\n",
              "      <td>0.0</td>\n",
              "      <td>0.00</td>\n",
              "      <td>building_float_processed</td>\n",
              "    </tr>\n",
              "    <tr>\n",
              "      <th>2</th>\n",
              "      <td>1.51618</td>\n",
              "      <td>13.53</td>\n",
              "      <td>3.55</td>\n",
              "      <td>1.54</td>\n",
              "      <td>72.99</td>\n",
              "      <td>0.39</td>\n",
              "      <td>7.78</td>\n",
              "      <td>0.0</td>\n",
              "      <td>0.00</td>\n",
              "      <td>building_float_processed</td>\n",
              "    </tr>\n",
              "    <tr>\n",
              "      <th>3</th>\n",
              "      <td>1.51766</td>\n",
              "      <td>13.21</td>\n",
              "      <td>3.69</td>\n",
              "      <td>1.29</td>\n",
              "      <td>72.61</td>\n",
              "      <td>0.57</td>\n",
              "      <td>8.22</td>\n",
              "      <td>0.0</td>\n",
              "      <td>0.00</td>\n",
              "      <td>building_float_processed</td>\n",
              "    </tr>\n",
              "    <tr>\n",
              "      <th>4</th>\n",
              "      <td>1.51742</td>\n",
              "      <td>13.27</td>\n",
              "      <td>3.62</td>\n",
              "      <td>1.24</td>\n",
              "      <td>73.08</td>\n",
              "      <td>0.55</td>\n",
              "      <td>8.07</td>\n",
              "      <td>0.0</td>\n",
              "      <td>0.00</td>\n",
              "      <td>building_float_processed</td>\n",
              "    </tr>\n",
              "    <tr>\n",
              "      <th>5</th>\n",
              "      <td>1.51596</td>\n",
              "      <td>12.79</td>\n",
              "      <td>3.61</td>\n",
              "      <td>1.62</td>\n",
              "      <td>72.97</td>\n",
              "      <td>0.64</td>\n",
              "      <td>8.07</td>\n",
              "      <td>0.0</td>\n",
              "      <td>0.26</td>\n",
              "      <td>building_float_processed</td>\n",
              "    </tr>\n",
              "    <tr>\n",
              "      <th>6</th>\n",
              "      <td>1.51743</td>\n",
              "      <td>13.30</td>\n",
              "      <td>3.60</td>\n",
              "      <td>1.14</td>\n",
              "      <td>73.09</td>\n",
              "      <td>0.58</td>\n",
              "      <td>8.17</td>\n",
              "      <td>0.0</td>\n",
              "      <td>0.00</td>\n",
              "      <td>building_float_processed</td>\n",
              "    </tr>\n",
              "  </tbody>\n",
              "</table>\n",
              "</div>"
            ],
            "text/plain": [
              "        RI     Na    Mg    Al  ...    Ca   Ba    Fe                     Class\n",
              "0  1.52101  13.64  4.49  1.10  ...  8.75  0.0  0.00  building_float_processed\n",
              "1  1.51761  13.89  3.60  1.36  ...  7.83  0.0  0.00  building_float_processed\n",
              "2  1.51618  13.53  3.55  1.54  ...  7.78  0.0  0.00  building_float_processed\n",
              "3  1.51766  13.21  3.69  1.29  ...  8.22  0.0  0.00  building_float_processed\n",
              "4  1.51742  13.27  3.62  1.24  ...  8.07  0.0  0.00  building_float_processed\n",
              "5  1.51596  12.79  3.61  1.62  ...  8.07  0.0  0.26  building_float_processed\n",
              "6  1.51743  13.30  3.60  1.14  ...  8.17  0.0  0.00  building_float_processed\n",
              "\n",
              "[7 rows x 10 columns]"
            ]
          },
          "metadata": {
            "tags": []
          },
          "execution_count": 24
        }
      ]
    },
    {
      "cell_type": "markdown",
      "metadata": {
        "id": "MUJepDrJaDYa"
      },
      "source": [
        "# Добавить пропуски для последующей очистки"
      ]
    },
    {
      "cell_type": "code",
      "metadata": {
        "id": "VcN07UhFZkR3"
      },
      "source": [
        "for col in data.columns:\r\n",
        "  fr = np.random.randint(5,10)/100\r\n",
        "  data.loc[data.sample(frac=fr).index,col] = np.nan"
      ],
      "execution_count": 25,
      "outputs": []
    },
    {
      "cell_type": "markdown",
      "metadata": {
        "id": "EQn3q9eoa4TT"
      },
      "source": [
        "# Визуализация данных"
      ]
    },
    {
      "cell_type": "code",
      "metadata": {
        "colab": {
          "base_uri": "https://localhost:8080/"
        },
        "id": "Wm2ad0bXa8C0",
        "outputId": "6ed5d1b9-72bf-4846-c83d-c46c7e53e020"
      },
      "source": [
        "data.info()"
      ],
      "execution_count": 27,
      "outputs": [
        {
          "output_type": "stream",
          "text": [
            "<class 'pandas.core.frame.DataFrame'>\n",
            "RangeIndex: 214 entries, 0 to 213\n",
            "Data columns (total 10 columns):\n",
            " #   Column  Non-Null Count  Dtype  \n",
            "---  ------  --------------  -----  \n",
            " 0   RI      201 non-null    float64\n",
            " 1   Na      199 non-null    float64\n",
            " 2   Mg      197 non-null    float64\n",
            " 3   Al      203 non-null    float64\n",
            " 4   Si      197 non-null    float64\n",
            " 5   K       203 non-null    float64\n",
            " 6   Ca      203 non-null    float64\n",
            " 7   Ba      197 non-null    float64\n",
            " 8   Fe      199 non-null    float64\n",
            " 9   Class   201 non-null    object \n",
            "dtypes: float64(9), object(1)\n",
            "memory usage: 16.8+ KB\n"
          ],
          "name": "stdout"
        }
      ]
    },
    {
      "cell_type": "code",
      "metadata": {
        "colab": {
          "base_uri": "https://localhost:8080/",
          "height": 297
        },
        "id": "0V-vbgJ_bsBV",
        "outputId": "11c2e430-9fd3-4b94-f024-4f66cd87248f"
      },
      "source": [
        "data.describe()"
      ],
      "execution_count": 28,
      "outputs": [
        {
          "output_type": "execute_result",
          "data": {
            "text/html": [
              "<div>\n",
              "<style scoped>\n",
              "    .dataframe tbody tr th:only-of-type {\n",
              "        vertical-align: middle;\n",
              "    }\n",
              "\n",
              "    .dataframe tbody tr th {\n",
              "        vertical-align: top;\n",
              "    }\n",
              "\n",
              "    .dataframe thead th {\n",
              "        text-align: right;\n",
              "    }\n",
              "</style>\n",
              "<table border=\"1\" class=\"dataframe\">\n",
              "  <thead>\n",
              "    <tr style=\"text-align: right;\">\n",
              "      <th></th>\n",
              "      <th>RI</th>\n",
              "      <th>Na</th>\n",
              "      <th>Mg</th>\n",
              "      <th>Al</th>\n",
              "      <th>Si</th>\n",
              "      <th>K</th>\n",
              "      <th>Ca</th>\n",
              "      <th>Ba</th>\n",
              "      <th>Fe</th>\n",
              "    </tr>\n",
              "  </thead>\n",
              "  <tbody>\n",
              "    <tr>\n",
              "      <th>count</th>\n",
              "      <td>201.000000</td>\n",
              "      <td>199.000000</td>\n",
              "      <td>197.000000</td>\n",
              "      <td>203.000000</td>\n",
              "      <td>197.000000</td>\n",
              "      <td>203.000000</td>\n",
              "      <td>203.000000</td>\n",
              "      <td>197.000000</td>\n",
              "      <td>199.000000</td>\n",
              "    </tr>\n",
              "    <tr>\n",
              "      <th>mean</th>\n",
              "      <td>1.518363</td>\n",
              "      <td>13.422010</td>\n",
              "      <td>2.634924</td>\n",
              "      <td>1.445911</td>\n",
              "      <td>72.652487</td>\n",
              "      <td>0.509655</td>\n",
              "      <td>8.976946</td>\n",
              "      <td>0.186599</td>\n",
              "      <td>0.055980</td>\n",
              "    </tr>\n",
              "    <tr>\n",
              "      <th>std</th>\n",
              "      <td>0.003077</td>\n",
              "      <td>0.831624</td>\n",
              "      <td>1.469855</td>\n",
              "      <td>0.497875</td>\n",
              "      <td>0.768284</td>\n",
              "      <td>0.664984</td>\n",
              "      <td>1.443960</td>\n",
              "      <td>0.514965</td>\n",
              "      <td>0.096053</td>\n",
              "    </tr>\n",
              "    <tr>\n",
              "      <th>min</th>\n",
              "      <td>1.511150</td>\n",
              "      <td>10.730000</td>\n",
              "      <td>0.000000</td>\n",
              "      <td>0.340000</td>\n",
              "      <td>69.890000</td>\n",
              "      <td>0.000000</td>\n",
              "      <td>5.430000</td>\n",
              "      <td>0.000000</td>\n",
              "      <td>0.000000</td>\n",
              "    </tr>\n",
              "    <tr>\n",
              "      <th>25%</th>\n",
              "      <td>1.516510</td>\n",
              "      <td>12.930000</td>\n",
              "      <td>1.830000</td>\n",
              "      <td>1.190000</td>\n",
              "      <td>72.280000</td>\n",
              "      <td>0.135000</td>\n",
              "      <td>8.270000</td>\n",
              "      <td>0.000000</td>\n",
              "      <td>0.000000</td>\n",
              "    </tr>\n",
              "    <tr>\n",
              "      <th>50%</th>\n",
              "      <td>1.517680</td>\n",
              "      <td>13.330000</td>\n",
              "      <td>3.470000</td>\n",
              "      <td>1.360000</td>\n",
              "      <td>72.790000</td>\n",
              "      <td>0.560000</td>\n",
              "      <td>8.610000</td>\n",
              "      <td>0.000000</td>\n",
              "      <td>0.000000</td>\n",
              "    </tr>\n",
              "    <tr>\n",
              "      <th>75%</th>\n",
              "      <td>1.519180</td>\n",
              "      <td>13.850000</td>\n",
              "      <td>3.590000</td>\n",
              "      <td>1.630000</td>\n",
              "      <td>73.080000</td>\n",
              "      <td>0.610000</td>\n",
              "      <td>9.245000</td>\n",
              "      <td>0.000000</td>\n",
              "      <td>0.100000</td>\n",
              "    </tr>\n",
              "    <tr>\n",
              "      <th>max</th>\n",
              "      <td>1.533930</td>\n",
              "      <td>17.380000</td>\n",
              "      <td>4.490000</td>\n",
              "      <td>3.500000</td>\n",
              "      <td>75.410000</td>\n",
              "      <td>6.210000</td>\n",
              "      <td>16.190000</td>\n",
              "      <td>3.150000</td>\n",
              "      <td>0.510000</td>\n",
              "    </tr>\n",
              "  </tbody>\n",
              "</table>\n",
              "</div>"
            ],
            "text/plain": [
              "               RI          Na          Mg  ...          Ca          Ba          Fe\n",
              "count  201.000000  199.000000  197.000000  ...  203.000000  197.000000  199.000000\n",
              "mean     1.518363   13.422010    2.634924  ...    8.976946    0.186599    0.055980\n",
              "std      0.003077    0.831624    1.469855  ...    1.443960    0.514965    0.096053\n",
              "min      1.511150   10.730000    0.000000  ...    5.430000    0.000000    0.000000\n",
              "25%      1.516510   12.930000    1.830000  ...    8.270000    0.000000    0.000000\n",
              "50%      1.517680   13.330000    3.470000  ...    8.610000    0.000000    0.000000\n",
              "75%      1.519180   13.850000    3.590000  ...    9.245000    0.000000    0.100000\n",
              "max      1.533930   17.380000    4.490000  ...   16.190000    3.150000    0.510000\n",
              "\n",
              "[8 rows x 9 columns]"
            ]
          },
          "metadata": {
            "tags": []
          },
          "execution_count": 28
        }
      ]
    },
    {
      "cell_type": "code",
      "metadata": {
        "colab": {
          "base_uri": "https://localhost:8080/",
          "height": 238
        },
        "id": "RHGLjrVicLrR",
        "outputId": "3a7abfa4-c378-44e8-8b02-af2bfccb98c6"
      },
      "source": [
        "display( data[\"Class\"].describe())\r\n",
        "print(\"===========================\")\r\n",
        "display( data[\"Class\"].value_counts())"
      ],
      "execution_count": 29,
      "outputs": [
        {
          "output_type": "display_data",
          "data": {
            "text/plain": [
              "count                              201\n",
              "unique                               6\n",
              "top       building_non_float_processed\n",
              "freq                                74\n",
              "Name: Class, dtype: object"
            ]
          },
          "metadata": {
            "tags": []
          }
        },
        {
          "output_type": "stream",
          "text": [
            "===========================\n"
          ],
          "name": "stdout"
        },
        {
          "output_type": "display_data",
          "data": {
            "text/plain": [
              "building_non_float_processed    74\n",
              "building_float_processed        66\n",
              "headlamps                       25\n",
              "vehicle_float_processed         16\n",
              "containers                      12\n",
              "tableware                        8\n",
              "Name: Class, dtype: int64"
            ]
          },
          "metadata": {
            "tags": []
          }
        }
      ]
    }
  ]
}